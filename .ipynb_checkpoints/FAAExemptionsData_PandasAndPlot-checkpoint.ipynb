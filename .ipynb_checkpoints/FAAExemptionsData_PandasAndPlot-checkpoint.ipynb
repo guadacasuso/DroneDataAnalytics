{
 "cells": [
  {
   "cell_type": "markdown",
   "metadata": {
    "collapsed": true
   },
   "source": [
    "# Drones Data Analysis - Simple Plotting "
   ]
  },
  {
   "cell_type": "markdown",
   "metadata": {},
   "source": [
    "##  Consuming datasource of FAA Exemptions \n",
    "\n",
    "This source was published by TheVerge "
   ]
  },
  {
   "cell_type": "code",
   "execution_count": null,
   "metadata": {
    "collapsed": false,
    "scrolled": true
   },
   "outputs": [],
   "source": [
    "path= \"/Users/guadalupecasuso/Documents/DroneDataSource/data-projects/verge-drones-over-america/drone-data-full.csv\"\n",
    "open(path).readline()"
   ]
  },
  {
   "cell_type": "markdown",
   "metadata": {
    "collapsed": true
   },
   "source": [
    "## Counting Exemptions Requests"
   ]
  },
  {
   "cell_type": "code",
   "execution_count": null,
   "metadata": {
    "collapsed": false,
    "scrolled": true
   },
   "outputs": [],
   "source": [
    "import json\n",
    "import csv\n",
    "path= '/Users/guadalupecasuso/Documents/DroneDataSource/data-projects/verge-drones-over-america/drone-data-full.csv'\n",
    "applicationsFile= open(path)\n",
    "applicationsFileReader = csv.reader(applicationsFile)\n",
    "applicationsData= list(applicationsFileReader)\n",
    "\n",
    "#Understanding the Data \n",
    "print 'Raw Data:',  applicationsData [0]\n",
    "\n",
    "#Total companies aplying to FAA Exemptions \n",
    "print 'Total Companies application' , len(applicationsData)\n",
    "\n"
   ]
  },
  {
   "cell_type": "markdown",
   "metadata": {},
   "source": [
    "## pandas: Dataframe with all applications "
   ]
  },
  {
   "cell_type": "code",
   "execution_count": null,
   "metadata": {
    "collapsed": true
   },
   "outputs": [],
   "source": [
    "import json\n",
    "import csv\n",
    "\n",
    "path= '/Users/guadalupecasuso/Documents/DroneDataSource/data-projects/verge-drones-over-america/drone-data-full.csv'\n",
    "applicationsFile= open(path)\n",
    "applicationsFileReader = csv.reader(applicationsFile)\n",
    "applicationsData= list(applicationsFileReader)\n"
   ]
  },
  {
   "cell_type": "code",
   "execution_count": null,
   "metadata": {
    "collapsed": false,
    "scrolled": false
   },
   "outputs": [],
   "source": [
    "from pandas import DataFrame, Series\n",
    "import pandas as pd\n",
    "\n",
    "frame = DataFrame(applicationsData)\n",
    "frame"
   ]
  },
  {
   "cell_type": "markdown",
   "metadata": {
    "collapsed": true
   },
   "source": [
    "## plotting: Visualization of Categories requested  "
   ]
  },
  {
   "cell_type": "code",
   "execution_count": null,
   "metadata": {
    "collapsed": true
   },
   "outputs": [],
   "source": [
    "%matplotlib inline"
   ]
  },
  {
   "cell_type": "code",
   "execution_count": null,
   "metadata": {
    "collapsed": true
   },
   "outputs": [],
   "source": [
    "import json\n",
    "import csv\n",
    "\n",
    "path= '/Users/guadalupecasuso/Documents/DroneDataSource/data-projects/verge-drones-over-america/drone-data-full.csv'\n",
    "applicationsFile= open(path)\n",
    "applicationsFileReader = csv.reader(applicationsFile)\n",
    "applicationsData= list(applicationsFileReader)"
   ]
  },
  {
   "cell_type": "code",
   "execution_count": null,
   "metadata": {
    "collapsed": false
   },
   "outputs": [],
   "source": [
    "from pandas import DataFrame, Series\n",
    "import pandas as pd \n",
    "\n",
    "frame = DataFrame(applicationsData)\n",
    "frame"
   ]
  },
  {
   "cell_type": "code",
   "execution_count": null,
   "metadata": {
    "collapsed": false
   },
   "outputs": [],
   "source": [
    "frame[0][:10]"
   ]
  },
  {
   "cell_type": "code",
   "execution_count": null,
   "metadata": {
    "collapsed": false,
    "scrolled": false
   },
   "outputs": [],
   "source": [
    "# Categories Views - FAA Exemptions \n",
    "categories_counts = frame[2].value_counts()\n",
    "print 'Total Categories: '\n",
    "categories_counts[:200]"
   ]
  },
  {
   "cell_type": "code",
   "execution_count": null,
   "metadata": {
    "collapsed": false
   },
   "outputs": [],
   "source": [
    "plt.figure(figsize=(5, 4)) \n",
    "categories_counts[:20].plot(kind='barh', rot=0)\n"
   ]
  }
 ],
 "metadata": {
  "kernelspec": {
   "display_name": "Python 2",
   "language": "python",
   "name": "python2"
  },
  "language_info": {
   "codemirror_mode": {
    "name": "ipython",
    "version": 2
   },
   "file_extension": ".py",
   "mimetype": "text/x-python",
   "name": "python",
   "nbconvert_exporter": "python",
   "pygments_lexer": "ipython2",
   "version": "2.7.11"
  }
 },
 "nbformat": 4,
 "nbformat_minor": 0
}
