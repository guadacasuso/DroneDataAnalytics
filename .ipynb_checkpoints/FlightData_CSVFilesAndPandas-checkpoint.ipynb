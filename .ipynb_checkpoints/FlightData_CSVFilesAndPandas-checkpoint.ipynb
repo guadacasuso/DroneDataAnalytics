{
 "cells": [
  {
   "cell_type": "markdown",
   "metadata": {
    "collapsed": true
   },
   "source": [
    "# Drones Flight Data Analysis - readers, lists and pandas"
   ]
  },
  {
   "cell_type": "markdown",
   "metadata": {},
   "source": [
    "Consuming datasource of DataFlights captured with Pix4D"
   ]
  },
  {
   "cell_type": "code",
   "execution_count": 1,
   "metadata": {
    "collapsed": false
   },
   "outputs": [
    {
     "data": {
      "text/plain": [
       "'OMAP Timestamp (microseconds since epoch),SVs,Lat (1e-7 deg),Lon (1e-7 deg),Alt (m),North Velocity (m/s),East Velocity (m/s),Down Velocity (m/s),Aircraft Roll (1e-4 rad),Aircraft Pitch (1e-4 rad),Aircraft Yaw (1e-4 rad),X Gyro (1e-4 rad/s),Y Gyro (1e-4 rad/s),Z Gyro (1e-4 rad/s),X Accel (1e-4 m/s/s),Y Accel (1e-2 m/s/s),Z Accel (1e-2 m/s/s),X Mag (mG),Y Mag (mG),Z Mag (mG),Indicated Air Speed (cm/s offset by -2000),Wind Direction (1e-4 rad),Wind Magnitude (cm/s),Autopilot Mode\\n'"
      ]
     },
     "execution_count": 1,
     "metadata": {},
     "output_type": "execute_result"
    }
   ],
   "source": [
    "path= \"/Users/guadalupecasuso/Documents/DroneDataSource/flight_data.csv\"\n",
    "open(path).readline()"
   ]
  },
  {
   "cell_type": "code",
   "execution_count": 2,
   "metadata": {
    "collapsed": false
   },
   "outputs": [
    {
     "name": "stdout",
     "output_type": "stream",
     "text": [
      "Headers: ['OMAP Timestamp (microseconds since epoch)', 'SVs', 'Lat (1e-7 deg)', 'Lon (1e-7 deg)', 'Alt (m)', 'North Velocity (m/s)', 'East Velocity (m/s)', 'Down Velocity (m/s)', 'Aircraft Roll (1e-4 rad)', 'Aircraft Pitch (1e-4 rad)', 'Aircraft Yaw (1e-4 rad)', 'X Gyro (1e-4 rad/s)', 'Y Gyro (1e-4 rad/s)', 'Z Gyro (1e-4 rad/s)', 'X Accel (1e-4 m/s/s)', 'Y Accel (1e-2 m/s/s)', 'Z Accel (1e-2 m/s/s)', 'X Mag (mG)', 'Y Mag (mG)', 'Z Mag (mG)', 'Indicated Air Speed (cm/s offset by -2000)', 'Wind Direction (1e-4 rad)', 'Wind Magnitude (cm/s)', 'Autopilot Mode']\n",
      "Data Row Sample: ['946684900875640', '8', '442760089', '-940902746', '295.055', '0.00802701', '0.0023105', '0.0466009', '-1062', '-227', '17357', '167', '5', '17', '-22', '103', '-980', '2', '-208', '498', '2226', '0', '0', '0']\n",
      "Total 10006\n"
     ]
    }
   ],
   "source": [
    "import json\n",
    "import csv\n",
    "path= '/Users/guadalupecasuso/Documents/DroneDataSource/flight_data.csv'\n",
    "flightsFile= open(path)\n",
    "flightsFileReader = csv.reader(flightsFile)\n",
    "flightsData= list(flightsFileReader)\n",
    "\n",
    "print 'Headers:',  flightsData [0]\n",
    "print 'Data Row Sample:' , flightsData [1]\n",
    "\n",
    "autoPilots= [rec[-1] for rec in flightsData]\n",
    "\n",
    "print 'Total' , autoPilots.count('0') \n",
    "\n"
   ]
  },
  {
   "cell_type": "markdown",
   "metadata": {},
   "source": [
    "Todo: This Datasource Need a good dictionary"
   ]
  },
  {
   "cell_type": "markdown",
   "metadata": {},
   "source": [
    "## Count Autopilot ocurrences"
   ]
  },
  {
   "cell_type": "code",
   "execution_count": 4,
   "metadata": {
    "collapsed": false
   },
   "outputs": [
    {
     "name": "stdout",
     "output_type": "stream",
     "text": [
      "Total 73766\n"
     ]
    }
   ],
   "source": [
    "autoPilotsActivated = [rec[-1] for rec in flightsData if '0' not in rec]\n",
    "print 'Total' , len(autoPilots) "
   ]
  },
  {
   "cell_type": "markdown",
   "metadata": {},
   "source": [
    "## Visualizing Autopilot Activated Flight with pandas"
   ]
  },
  {
   "cell_type": "code",
   "execution_count": null,
   "metadata": {
    "collapsed": true
   },
   "outputs": [],
   "source": [
    "import json\n",
    "import csv\n",
    "\n",
    "path= '/Users/guadalupecasuso/Documents/DroneDataSource/flight_data.csv'\n",
    "flightsFile= open(path)\n",
    "flightsFileReader = csv.reader(flightsFile)\n",
    "flightsData= list(flightsFileReader)\n"
   ]
  },
  {
   "cell_type": "code",
   "execution_count": null,
   "metadata": {
    "collapsed": false
   },
   "outputs": [],
   "source": [
    "from pandas import DataFrame, Series\n",
    "import pandas as pd\n",
    "\n",
    "frame = DataFrame(flightsData)\n",
    "frame"
   ]
  }
 ],
 "metadata": {
  "kernelspec": {
   "display_name": "Python 2",
   "language": "python",
   "name": "python2"
  },
  "language_info": {
   "codemirror_mode": {
    "name": "ipython",
    "version": 2
   },
   "file_extension": ".py",
   "mimetype": "text/x-python",
   "name": "python",
   "nbconvert_exporter": "python",
   "pygments_lexer": "ipython2",
   "version": "2.7.11"
  }
 },
 "nbformat": 4,
 "nbformat_minor": 0
}
